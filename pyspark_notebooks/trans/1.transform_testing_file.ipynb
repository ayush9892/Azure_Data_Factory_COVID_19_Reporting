{
 "cells": [
  {
   "cell_type": "markdown",
   "metadata": {
    "application/vnd.databricks.v1+cell": {
     "cellMetadata": {
      "byteLimit": 2048000,
      "rowLimit": 10000
     },
     "inputWidgets": {},
     "nuid": "09d3e002-b782-4c0b-8572-a7ae28b0eb3e",
     "showTitle": false,
     "title": ""
    }
   },
   "source": [
    "### Transform testing.csv file"
   ]
  },
  {
   "cell_type": "markdown",
   "metadata": {
    "application/vnd.databricks.v1+cell": {
     "cellMetadata": {
      "byteLimit": 2048000,
      "rowLimit": 10000
     },
     "inputWidgets": {},
     "nuid": "bfdb0ca2-0926-424d-9c07-228101cf006f",
     "showTitle": false,
     "title": ""
    }
   },
   "source": [
    "##### Reading testing.csv"
   ]
  },
  {
   "cell_type": "code",
   "execution_count": 0,
   "metadata": {
    "application/vnd.databricks.v1+cell": {
     "cellMetadata": {
      "byteLimit": 2048000,
      "rowLimit": 10000
     },
     "inputWidgets": {},
     "nuid": "e79fdb69-9ebe-49cf-ac86-46916ed75b35",
     "showTitle": false,
     "title": ""
    }
   },
   "outputs": [],
   "source": [
    "testing_df = spark.read.option('inferSchema', True) \\\n",
    "                .option('header', True) \\\n",
    "                .csv('/mnt/covid19reportingadfadls/raw/ecdc/testing/testing.csv') \\\n",
    "                .withColumnRenamed('year_week', 'reported_year_week')"
   ]
  },
  {
   "cell_type": "code",
   "execution_count": 0,
   "metadata": {
    "application/vnd.databricks.v1+cell": {
     "cellMetadata": {
      "byteLimit": 2048000,
      "rowLimit": 10000
     },
     "inputWidgets": {},
     "nuid": "c4b29ae8-44ac-4002-8697-9443239e3b12",
     "showTitle": false,
     "title": ""
    }
   },
   "outputs": [
    {
     "output_type": "display_data",
     "data": {
      "text/html": [
       "<style scoped>\n",
       "  .table-result-container {\n",
       "    max-height: 300px;\n",
       "    overflow: auto;\n",
       "  }\n",
       "  table, th, td {\n",
       "    border: 1px solid black;\n",
       "    border-collapse: collapse;\n",
       "  }\n",
       "  th, td {\n",
       "    padding: 5px;\n",
       "  }\n",
       "  th {\n",
       "    text-align: left;\n",
       "  }\n",
       "</style><div class='table-result-container'><table class='table-result'><thead style='background-color: white'><tr><th>country</th><th>country_code</th><th>reported_year_week</th><th>new_cases</th><th>tests_done</th><th>population</th><th>testing_rate</th><th>positivity_rate</th><th>testing_data_source</th></tr></thead><tbody><tr><td>Austria</td><td>AT</td><td>2020-W15</td><td>2041</td><td>12339</td><td>8858775</td><td>139.285623576623</td><td>16.5410487073507</td><td>Manual webscraping</td></tr><tr><td>Austria</td><td>AT</td><td>2020-W16</td><td>855</td><td>58488</td><td>8858775</td><td>660.226724349586</td><td>1.46183832581042</td><td>Manual webscraping</td></tr><tr><td>Austria</td><td>AT</td><td>2020-W17</td><td>472</td><td>33443</td><td>8858775</td><td>377.512692217603</td><td>1.41135663666537</td><td>Manual webscraping</td></tr><tr><td>Austria</td><td>AT</td><td>2020-W18</td><td>336</td><td>26598</td><td>8858775</td><td>300.244672655079</td><td>1.2632528761561</td><td>Country website</td></tr><tr><td>Austria</td><td>AT</td><td>2020-W19</td><td>307</td><td>42153</td><td>8858775</td><td>475.833283947273</td><td>0.728299290679193</td><td>Country website</td></tr></tbody></table></div>"
      ]
     },
     "metadata": {
      "application/vnd.databricks.v1+output": {
       "addedWidgets": {},
       "aggData": [],
       "aggError": "",
       "aggOverflow": false,
       "aggSchema": [],
       "aggSeriesLimitReached": false,
       "aggType": "",
       "arguments": {},
       "columnCustomDisplayInfos": {},
       "data": [
        [
         "Austria",
         "AT",
         "2020-W15",
         2041,
         12339,
         8858775,
         139.285623576623,
         16.5410487073507,
         "Manual webscraping"
        ],
        [
         "Austria",
         "AT",
         "2020-W16",
         855,
         58488,
         8858775,
         660.226724349586,
         1.46183832581042,
         "Manual webscraping"
        ],
        [
         "Austria",
         "AT",
         "2020-W17",
         472,
         33443,
         8858775,
         377.512692217603,
         1.41135663666537,
         "Manual webscraping"
        ],
        [
         "Austria",
         "AT",
         "2020-W18",
         336,
         26598,
         8858775,
         300.244672655079,
         1.2632528761561,
         "Country website"
        ],
        [
         "Austria",
         "AT",
         "2020-W19",
         307,
         42153,
         8858775,
         475.833283947273,
         0.728299290679193,
         "Country website"
        ]
       ],
       "datasetInfos": [],
       "dbfsResultPath": null,
       "isJsonSchema": true,
       "metadata": {},
       "overflow": false,
       "plotOptions": {
        "customPlotOptions": {},
        "displayType": "table",
        "pivotAggregation": null,
        "pivotColumns": null,
        "xColumns": null,
        "yColumns": null
       },
       "removedWidgets": [],
       "schema": [
        {
         "metadata": "{}",
         "name": "country",
         "type": "\"string\""
        },
        {
         "metadata": "{}",
         "name": "country_code",
         "type": "\"string\""
        },
        {
         "metadata": "{}",
         "name": "reported_year_week",
         "type": "\"string\""
        },
        {
         "metadata": "{}",
         "name": "new_cases",
         "type": "\"integer\""
        },
        {
         "metadata": "{}",
         "name": "tests_done",
         "type": "\"integer\""
        },
        {
         "metadata": "{}",
         "name": "population",
         "type": "\"integer\""
        },
        {
         "metadata": "{}",
         "name": "testing_rate",
         "type": "\"double\""
        },
        {
         "metadata": "{}",
         "name": "positivity_rate",
         "type": "\"double\""
        },
        {
         "metadata": "{}",
         "name": "testing_data_source",
         "type": "\"string\""
        }
       ],
       "type": "table"
      }
     },
     "output_type": "display_data"
    }
   ],
   "source": [
    "# display(testing_df.limit(5))"
   ]
  },
  {
   "cell_type": "markdown",
   "metadata": {
    "application/vnd.databricks.v1+cell": {
     "cellMetadata": {
      "byteLimit": 2048000,
      "rowLimit": 10000
     },
     "inputWidgets": {},
     "nuid": "d9639df8-a80f-4f93-a3e9-5ea472269bc9",
     "showTitle": false,
     "title": ""
    }
   },
   "source": [
    "##### Reading lookup.csv"
   ]
  },
  {
   "cell_type": "code",
   "execution_count": 0,
   "metadata": {
    "application/vnd.databricks.v1+cell": {
     "cellMetadata": {
      "byteLimit": 2048000,
      "rowLimit": 10000
     },
     "inputWidgets": {},
     "nuid": "93d32d39-9acf-4ac1-b107-145c52d2df25",
     "showTitle": false,
     "title": ""
    }
   },
   "outputs": [],
   "source": [
    "lookup_df = spark.read.option('inferSchema', True) \\\n",
    "    .option('header', True) \\\n",
    "    .csv('/mnt/covid19reportingadfadls/lookup/country_lookup/country_lookup.csv') \\\n",
    "    .withColumnRenamed('country', 'lookup_country') \\\n",
    "    .withColumnRenamed('population', 'lookup_population')"
   ]
  },
  {
   "cell_type": "code",
   "execution_count": 0,
   "metadata": {
    "application/vnd.databricks.v1+cell": {
     "cellMetadata": {
      "byteLimit": 2048000,
      "rowLimit": 10000
     },
     "inputWidgets": {},
     "nuid": "a7725758-7190-4317-9338-a9d0e0e8ca01",
     "showTitle": false,
     "title": ""
    }
   },
   "outputs": [
    {
     "output_type": "display_data",
     "data": {
      "text/html": [
       "<style scoped>\n",
       "  .table-result-container {\n",
       "    max-height: 300px;\n",
       "    overflow: auto;\n",
       "  }\n",
       "  table, th, td {\n",
       "    border: 1px solid black;\n",
       "    border-collapse: collapse;\n",
       "  }\n",
       "  th, td {\n",
       "    padding: 5px;\n",
       "  }\n",
       "  th {\n",
       "    text-align: left;\n",
       "  }\n",
       "</style><div class='table-result-container'><table class='table-result'><thead style='background-color: white'><tr><th>lookup_country</th><th>country_code_2_digit</th><th>country_code_3_digit</th><th>continent</th><th>lookup_population</th></tr></thead><tbody><tr><td>Aruba</td><td>AW</td><td>ABW</td><td>America</td><td>106766</td></tr><tr><td>Afghanistan</td><td>AF</td><td>AFG</td><td>Asia</td><td>38928341</td></tr><tr><td>Angola</td><td>AO</td><td>AGO</td><td>Africa</td><td>32866268</td></tr><tr><td>Anguilla</td><td>AI</td><td>AIA</td><td>America</td><td>15002</td></tr><tr><td>Albania</td><td>AL</td><td>ALB</td><td>Europe</td><td>2862427</td></tr></tbody></table></div>"
      ]
     },
     "metadata": {
      "application/vnd.databricks.v1+output": {
       "addedWidgets": {},
       "aggData": [],
       "aggError": "",
       "aggOverflow": false,
       "aggSchema": [],
       "aggSeriesLimitReached": false,
       "aggType": "",
       "arguments": {},
       "columnCustomDisplayInfos": {},
       "data": [
        [
         "Aruba",
         "AW",
         "ABW",
         "America",
         106766
        ],
        [
         "Afghanistan",
         "AF",
         "AFG",
         "Asia",
         38928341
        ],
        [
         "Angola",
         "AO",
         "AGO",
         "Africa",
         32866268
        ],
        [
         "Anguilla",
         "AI",
         "AIA",
         "America",
         15002
        ],
        [
         "Albania",
         "AL",
         "ALB",
         "Europe",
         2862427
        ]
       ],
       "datasetInfos": [],
       "dbfsResultPath": null,
       "isJsonSchema": true,
       "metadata": {},
       "overflow": false,
       "plotOptions": {
        "customPlotOptions": {},
        "displayType": "table",
        "pivotAggregation": null,
        "pivotColumns": null,
        "xColumns": null,
        "yColumns": null
       },
       "removedWidgets": [],
       "schema": [
        {
         "metadata": "{}",
         "name": "lookup_country",
         "type": "\"string\""
        },
        {
         "metadata": "{}",
         "name": "country_code_2_digit",
         "type": "\"string\""
        },
        {
         "metadata": "{}",
         "name": "country_code_3_digit",
         "type": "\"string\""
        },
        {
         "metadata": "{}",
         "name": "continent",
         "type": "\"string\""
        },
        {
         "metadata": "{}",
         "name": "lookup_population",
         "type": "\"integer\""
        }
       ],
       "type": "table"
      }
     },
     "output_type": "display_data"
    }
   ],
   "source": [
    "# display(lookup_df.limit(5))"
   ]
  },
  {
   "cell_type": "markdown",
   "metadata": {
    "application/vnd.databricks.v1+cell": {
     "cellMetadata": {
      "byteLimit": 2048000,
      "rowLimit": 10000
     },
     "inputWidgets": {},
     "nuid": "d0cfeecd-5172-4a02-b889-9ad281a1a95a",
     "showTitle": false,
     "title": ""
    }
   },
   "source": [
    "##### Reading dim_date.csv"
   ]
  },
  {
   "cell_type": "code",
   "execution_count": 0,
   "metadata": {
    "application/vnd.databricks.v1+cell": {
     "cellMetadata": {
      "byteLimit": 2048000,
      "rowLimit": 10000
     },
     "inputWidgets": {},
     "nuid": "ce47d602-e115-4aac-b8f5-fd12a6fe8197",
     "showTitle": false,
     "title": ""
    }
   },
   "outputs": [],
   "source": [
    "from pyspark.sql.functions import concat, lpad, lit, min, max"
   ]
  },
  {
   "cell_type": "code",
   "execution_count": 0,
   "metadata": {
    "application/vnd.databricks.v1+cell": {
     "cellMetadata": {
      "byteLimit": 2048000,
      "rowLimit": 10000
     },
     "inputWidgets": {},
     "nuid": "0293dd15-467b-4bf3-9983-21078daf8421",
     "showTitle": false,
     "title": ""
    }
   },
   "outputs": [],
   "source": [
    "dim_date_df = spark.read \\\n",
    "    .option('inferSchema', True) \\\n",
    "    .option('header', True) \\\n",
    "    .csv('/mnt/covid19reportingadfadls/lookup/dim_date/dim_date.csv') \\\n",
    "    .withColumn('ecdc_year_week', concat('year', lit('-W'), lpad('week_of_year', 2, '0'))) \\\n",
    "    .groupBy('ecdc_year_week') \\\n",
    "    .agg(min('date').alias('week_start_date'), max('date').alias('week_end_date'))"
   ]
  },
  {
   "cell_type": "code",
   "execution_count": 0,
   "metadata": {
    "application/vnd.databricks.v1+cell": {
     "cellMetadata": {
      "byteLimit": 2048000,
      "rowLimit": 10000
     },
     "inputWidgets": {},
     "nuid": "32ac5946-042e-4e35-9bb4-c48b2bf5fdb6",
     "showTitle": false,
     "title": ""
    }
   },
   "outputs": [
    {
     "output_type": "display_data",
     "data": {
      "text/html": [
       "<style scoped>\n",
       "  .table-result-container {\n",
       "    max-height: 300px;\n",
       "    overflow: auto;\n",
       "  }\n",
       "  table, th, td {\n",
       "    border: 1px solid black;\n",
       "    border-collapse: collapse;\n",
       "  }\n",
       "  th, td {\n",
       "    padding: 5px;\n",
       "  }\n",
       "  th {\n",
       "    text-align: left;\n",
       "  }\n",
       "</style><div class='table-result-container'><table class='table-result'><thead style='background-color: white'><tr><th>ecdc_year_week</th><th>week_start_date</th><th>week_end_date</th></tr></thead><tbody><tr><td>2020-W32</td><td>2020-08-02</td><td>2020-08-08</td></tr><tr><td>2022-W39</td><td>2022-09-18</td><td>2022-09-24</td></tr><tr><td>2020-W47</td><td>2020-11-15</td><td>2020-11-21</td></tr><tr><td>2020-W10</td><td>2020-03-01</td><td>2020-03-07</td></tr><tr><td>2020-W13</td><td>2020-03-22</td><td>2020-03-28</td></tr></tbody></table></div>"
      ]
     },
     "metadata": {
      "application/vnd.databricks.v1+output": {
       "addedWidgets": {},
       "aggData": [],
       "aggError": "",
       "aggOverflow": false,
       "aggSchema": [],
       "aggSeriesLimitReached": false,
       "aggType": "",
       "arguments": {},
       "columnCustomDisplayInfos": {},
       "data": [
        [
         "2020-W32",
         "2020-08-02",
         "2020-08-08"
        ],
        [
         "2022-W39",
         "2022-09-18",
         "2022-09-24"
        ],
        [
         "2020-W47",
         "2020-11-15",
         "2020-11-21"
        ],
        [
         "2020-W10",
         "2020-03-01",
         "2020-03-07"
        ],
        [
         "2020-W13",
         "2020-03-22",
         "2020-03-28"
        ]
       ],
       "datasetInfos": [],
       "dbfsResultPath": null,
       "isJsonSchema": true,
       "metadata": {},
       "overflow": false,
       "plotOptions": {
        "customPlotOptions": {},
        "displayType": "table",
        "pivotAggregation": null,
        "pivotColumns": null,
        "xColumns": null,
        "yColumns": null
       },
       "removedWidgets": [],
       "schema": [
        {
         "metadata": "{}",
         "name": "ecdc_year_week",
         "type": "\"string\""
        },
        {
         "metadata": "{}",
         "name": "week_start_date",
         "type": "\"date\""
        },
        {
         "metadata": "{}",
         "name": "week_end_date",
         "type": "\"date\""
        }
       ],
       "type": "table"
      }
     },
     "output_type": "display_data"
    }
   ],
   "source": [
    "# display(dim_date_df.limit(5))"
   ]
  },
  {
   "cell_type": "markdown",
   "metadata": {
    "application/vnd.databricks.v1+cell": {
     "cellMetadata": {
      "byteLimit": 2048000,
      "rowLimit": 10000
     },
     "inputWidgets": {},
     "nuid": "1f9261b2-24a3-4d19-aeda-dfea5202c230",
     "showTitle": false,
     "title": ""
    }
   },
   "source": [
    "##### Joining all detaframes and Selecting required fields"
   ]
  },
  {
   "cell_type": "code",
   "execution_count": 0,
   "metadata": {
    "application/vnd.databricks.v1+cell": {
     "cellMetadata": {
      "byteLimit": 2048000,
      "rowLimit": 10000
     },
     "inputWidgets": {},
     "nuid": "3b41b8bd-b3d9-4893-bfa6-bff2774766e8",
     "showTitle": false,
     "title": ""
    }
   },
   "outputs": [],
   "source": [
    "testing_lookup_df = testing_df.join(lookup_df, testing_df.country == lookup_df.lookup_country, 'left') \\\n",
    "    .drop('country_code')"
   ]
  },
  {
   "cell_type": "code",
   "execution_count": 0,
   "metadata": {
    "application/vnd.databricks.v1+cell": {
     "cellMetadata": {
      "byteLimit": 2048000,
      "rowLimit": 10000
     },
     "inputWidgets": {},
     "nuid": "bbca3084-2cf0-431f-a655-9d63a10d1217",
     "showTitle": false,
     "title": ""
    }
   },
   "outputs": [],
   "source": [
    "final_df = testing_lookup_df.join(dim_date_df, testing_lookup_df.reported_year_week == dim_date_df.ecdc_year_week, 'inner') \\\n",
    "    .select('country', 'country_code_2_digit', 'country_code_3_digit', 'reported_year_week', 'week_start_date', 'week_end_date', 'new_cases', 'tests_done', 'population', 'testing_rate', 'positivity_rate', 'testing_data_source') \\\n",
    "    .withColumnRenamed('week_start_date', 'reported_week_start_date') \\\n",
    "    .withColumnRenamed('week_end_date', 'reported_week_end_date')"
   ]
  },
  {
   "cell_type": "markdown",
   "metadata": {
    "application/vnd.databricks.v1+cell": {
     "cellMetadata": {
      "byteLimit": 2048000,
      "rowLimit": 10000
     },
     "inputWidgets": {},
     "nuid": "19628b72-5213-42bd-a623-f350b66d45c8",
     "showTitle": false,
     "title": ""
    }
   },
   "source": [
    "##### Write output to the processed container"
   ]
  },
  {
   "cell_type": "code",
   "execution_count": 0,
   "metadata": {
    "application/vnd.databricks.v1+cell": {
     "cellMetadata": {
      "byteLimit": 2048000,
      "rowLimit": 10000
     },
     "inputWidgets": {},
     "nuid": "6b925bae-d243-4f73-9df2-838f8808a9ab",
     "showTitle": false,
     "title": ""
    }
   },
   "outputs": [],
   "source": [
    "final_df.write.mode('overwrite').format('parquet').saveAsTable('covid19_processed.testing')"
   ]
  },
  {
   "cell_type": "code",
   "execution_count": 0,
   "metadata": {
    "application/vnd.databricks.v1+cell": {
     "cellMetadata": {
      "byteLimit": 2048000,
      "implicitDf": true,
      "rowLimit": 10000
     },
     "inputWidgets": {},
     "nuid": "dfa0be70-3919-4d36-9971-a2b9d5488793",
     "showTitle": false,
     "title": ""
    }
   },
   "outputs": [
    {
     "output_type": "display_data",
     "data": {
      "text/html": [
       "<style scoped>\n",
       "  .table-result-container {\n",
       "    max-height: 300px;\n",
       "    overflow: auto;\n",
       "  }\n",
       "  table, th, td {\n",
       "    border: 1px solid black;\n",
       "    border-collapse: collapse;\n",
       "  }\n",
       "  th, td {\n",
       "    padding: 5px;\n",
       "  }\n",
       "  th {\n",
       "    text-align: left;\n",
       "  }\n",
       "</style><div class='table-result-container'><table class='table-result'><thead style='background-color: white'><tr><th>country</th><th>country_code_2_digit</th><th>country_code_3_digit</th><th>reported_year_week</th><th>reported_week_start_date</th><th>reported_week_end_date</th><th>new_cases</th><th>tests_done</th><th>population</th><th>testing_rate</th><th>positivity_rate</th><th>testing_data_source</th></tr></thead><tbody><tr><td>Austria</td><td>AT</td><td>AUT</td><td>2020-W15</td><td>2020-04-05</td><td>2020-04-11</td><td>2041</td><td>12339</td><td>8858775</td><td>139.285623576623</td><td>16.5410487073507</td><td>Manual webscraping</td></tr><tr><td>Austria</td><td>AT</td><td>AUT</td><td>2020-W16</td><td>2020-04-12</td><td>2020-04-18</td><td>855</td><td>58488</td><td>8858775</td><td>660.226724349586</td><td>1.46183832581042</td><td>Manual webscraping</td></tr><tr><td>Austria</td><td>AT</td><td>AUT</td><td>2020-W17</td><td>2020-04-19</td><td>2020-04-25</td><td>472</td><td>33443</td><td>8858775</td><td>377.512692217603</td><td>1.41135663666537</td><td>Manual webscraping</td></tr><tr><td>Austria</td><td>AT</td><td>AUT</td><td>2020-W18</td><td>2020-04-26</td><td>2020-05-02</td><td>336</td><td>26598</td><td>8858775</td><td>300.244672655079</td><td>1.2632528761561</td><td>Country website</td></tr><tr><td>Austria</td><td>AT</td><td>AUT</td><td>2020-W19</td><td>2020-05-03</td><td>2020-05-09</td><td>307</td><td>42153</td><td>8858775</td><td>475.833283947273</td><td>0.728299290679193</td><td>Country website</td></tr></tbody></table></div>"
      ]
     },
     "metadata": {
      "application/vnd.databricks.v1+output": {
       "addedWidgets": {},
       "aggData": [],
       "aggError": "",
       "aggOverflow": false,
       "aggSchema": [],
       "aggSeriesLimitReached": false,
       "aggType": "",
       "arguments": {},
       "columnCustomDisplayInfos": {},
       "data": [
        [
         "Austria",
         "AT",
         "AUT",
         "2020-W15",
         "2020-04-05",
         "2020-04-11",
         2041,
         12339,
         8858775,
         139.285623576623,
         16.5410487073507,
         "Manual webscraping"
        ],
        [
         "Austria",
         "AT",
         "AUT",
         "2020-W16",
         "2020-04-12",
         "2020-04-18",
         855,
         58488,
         8858775,
         660.226724349586,
         1.46183832581042,
         "Manual webscraping"
        ],
        [
         "Austria",
         "AT",
         "AUT",
         "2020-W17",
         "2020-04-19",
         "2020-04-25",
         472,
         33443,
         8858775,
         377.512692217603,
         1.41135663666537,
         "Manual webscraping"
        ],
        [
         "Austria",
         "AT",
         "AUT",
         "2020-W18",
         "2020-04-26",
         "2020-05-02",
         336,
         26598,
         8858775,
         300.244672655079,
         1.2632528761561,
         "Country website"
        ],
        [
         "Austria",
         "AT",
         "AUT",
         "2020-W19",
         "2020-05-03",
         "2020-05-09",
         307,
         42153,
         8858775,
         475.833283947273,
         0.728299290679193,
         "Country website"
        ]
       ],
       "datasetInfos": [],
       "dbfsResultPath": null,
       "isJsonSchema": true,
       "metadata": {
        "dataframeName": "_sqldf",
        "executionCount": 8
       },
       "overflow": false,
       "plotOptions": {
        "customPlotOptions": {},
        "displayType": "table",
        "pivotAggregation": null,
        "pivotColumns": null,
        "xColumns": null,
        "yColumns": null
       },
       "removedWidgets": [],
       "schema": [
        {
         "metadata": "{}",
         "name": "country",
         "type": "\"string\""
        },
        {
         "metadata": "{}",
         "name": "country_code_2_digit",
         "type": "\"string\""
        },
        {
         "metadata": "{}",
         "name": "country_code_3_digit",
         "type": "\"string\""
        },
        {
         "metadata": "{}",
         "name": "reported_year_week",
         "type": "\"string\""
        },
        {
         "metadata": "{}",
         "name": "reported_week_start_date",
         "type": "\"date\""
        },
        {
         "metadata": "{}",
         "name": "reported_week_end_date",
         "type": "\"date\""
        },
        {
         "metadata": "{}",
         "name": "new_cases",
         "type": "\"integer\""
        },
        {
         "metadata": "{}",
         "name": "tests_done",
         "type": "\"integer\""
        },
        {
         "metadata": "{}",
         "name": "population",
         "type": "\"integer\""
        },
        {
         "metadata": "{}",
         "name": "testing_rate",
         "type": "\"double\""
        },
        {
         "metadata": "{}",
         "name": "positivity_rate",
         "type": "\"double\""
        },
        {
         "metadata": "{}",
         "name": "testing_data_source",
         "type": "\"string\""
        }
       ],
       "type": "table"
      }
     },
     "output_type": "display_data"
    }
   ],
   "source": [
    "%sql\n",
    "SELECT * FROM covid19_processed.testing\n",
    "LIMIT 5;"
   ]
  },
  {
   "cell_type": "code",
   "execution_count": 0,
   "metadata": {
    "application/vnd.databricks.v1+cell": {
     "cellMetadata": {},
     "inputWidgets": {},
     "nuid": "030b11a8-2c71-4b68-92cc-2fbba2b71612",
     "showTitle": false,
     "title": ""
    }
   },
   "outputs": [],
   "source": [
    "dbutils.notebook.exit('Success')"
   ]
  }
 ],
 "metadata": {
  "application/vnd.databricks.v1+notebook": {
   "dashboards": [],
   "language": "python",
   "notebookMetadata": {
    "mostRecentlyExecutedCommandWithImplicitDF": {
     "commandId": 1954581309579156,
     "dataframes": [
      "_sqldf"
     ]
    },
    "pythonIndentUnit": 4
   },
   "notebookName": "1.transform_testing_file",
   "widgets": {}
  }
 },
 "nbformat": 4,
 "nbformat_minor": 0
}
