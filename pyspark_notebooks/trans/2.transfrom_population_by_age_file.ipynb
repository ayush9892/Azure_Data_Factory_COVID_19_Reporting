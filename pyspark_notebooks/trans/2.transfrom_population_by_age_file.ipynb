{
 "cells": [
  {
   "cell_type": "markdown",
   "metadata": {
    "application/vnd.databricks.v1+cell": {
     "cellMetadata": {
      "byteLimit": 2048000,
      "rowLimit": 10000
     },
     "inputWidgets": {},
     "nuid": "39cee90a-1bda-44cd-b7f3-bdece33347bf",
     "showTitle": false,
     "title": ""
    }
   },
   "source": [
    "### Transform population_by_age.tsv file"
   ]
  },
  {
   "cell_type": "markdown",
   "metadata": {
    "application/vnd.databricks.v1+cell": {
     "cellMetadata": {
      "byteLimit": 2048000,
      "rowLimit": 10000
     },
     "inputWidgets": {},
     "nuid": "8803eaf5-bf8d-4059-87e9-ba33f23b4328",
     "showTitle": false,
     "title": ""
    }
   },
   "source": [
    "##### Reading population_by_age.tsv"
   ]
  },
  {
   "cell_type": "code",
   "execution_count": 0,
   "metadata": {
    "application/vnd.databricks.v1+cell": {
     "cellMetadata": {
      "byteLimit": 2048000,
      "rowLimit": 10000
     },
     "inputWidgets": {},
     "nuid": "6a43982e-07f8-4c10-a581-a3df63264260",
     "showTitle": false,
     "title": ""
    }
   },
   "outputs": [],
   "source": [
    "population_df = spark.read \\\n",
    "    .csv('/mnt/covid19reportingadfadls/raw/population/population_by_age.tsv', sep=r'\\t', header=True)\n",
    "    \n",
    "# Here sep=r'\\t', it represents a tab character as the separator. The r before the string in Python denotes a raw string. In raw strings, backslashes (\\) are treated as literal characters and not as escape characters. So, r'\\t' is equivalent to '\\\\t' in Python."
   ]
  },
  {
   "cell_type": "code",
   "execution_count": 0,
   "metadata": {
    "application/vnd.databricks.v1+cell": {
     "cellMetadata": {
      "byteLimit": 2048000,
      "rowLimit": 10000
     },
     "inputWidgets": {},
     "nuid": "e602e275-d073-4296-948c-4d508d256374",
     "showTitle": false,
     "title": ""
    }
   },
   "outputs": [
    {
     "output_type": "display_data",
     "data": {
      "text/html": [
       "<style scoped>\n",
       "  .table-result-container {\n",
       "    max-height: 300px;\n",
       "    overflow: auto;\n",
       "  }\n",
       "  table, th, td {\n",
       "    border: 1px solid black;\n",
       "    border-collapse: collapse;\n",
       "  }\n",
       "  th, td {\n",
       "    padding: 5px;\n",
       "  }\n",
       "  th {\n",
       "    text-align: left;\n",
       "  }\n",
       "</style><div class='table-result-container'><table class='table-result'><thead style='background-color: white'><tr><th>indic_de,geo\\time</th><th>2008 </th><th>2009 </th><th>2010 </th><th>2011 </th><th>2012 </th><th>2013 </th><th>2014 </th><th>2015 </th><th>2016 </th><th>2017 </th><th>2018 </th><th>2019 </th></tr></thead><tbody><tr><td>PC_Y0_14,AD</td><td>14.6 </td><td>14.5 </td><td>14.5 </td><td>15.5 </td><td>15.5 </td><td>15.5 </td><td>: </td><td>: </td><td>: </td><td>: </td><td>: </td><td>13.9 </td></tr><tr><td>PC_Y0_14,AL</td><td>24.1 </td><td>23.3 </td><td>22.5 </td><td>21.6 </td><td>20.7 </td><td>20.1 </td><td>19.6 </td><td>19.0 </td><td>18.5 </td><td>18.2 </td><td>17.7 </td><td>17.2 </td></tr><tr><td>PC_Y0_14,AM</td><td>19.0 </td><td>18.6 </td><td>18.3 </td><td>: </td><td>: </td><td>: </td><td>: </td><td>19.4 </td><td>19.6 </td><td>20.0 </td><td>20.2 </td><td>20.2 </td></tr><tr><td>PC_Y0_14,AT</td><td>15.4 </td><td>15.1 </td><td>14.9 </td><td>14.7 </td><td>14.6 </td><td>14.4 </td><td>14.3 </td><td>14.3 </td><td>14.3 </td><td>14.4 </td><td>14.4 </td><td>14.4 </td></tr><tr><td>PC_Y0_14,AZ</td><td>23.2 </td><td>22.6 </td><td>22.6 </td><td>22.3 </td><td>22.2 </td><td>22.3 </td><td>22.4 </td><td>22.4 </td><td>22.5 </td><td>22.6 </td><td>22.6 </td><td>22.4 </td></tr></tbody></table></div>"
      ]
     },
     "metadata": {
      "application/vnd.databricks.v1+output": {
       "addedWidgets": {},
       "aggData": [],
       "aggError": "",
       "aggOverflow": false,
       "aggSchema": [],
       "aggSeriesLimitReached": false,
       "aggType": "",
       "arguments": {},
       "columnCustomDisplayInfos": {},
       "data": [
        [
         "PC_Y0_14,AD",
         "14.6 ",
         "14.5 ",
         "14.5 ",
         "15.5 ",
         "15.5 ",
         "15.5 ",
         ": ",
         ": ",
         ": ",
         ": ",
         ": ",
         "13.9 "
        ],
        [
         "PC_Y0_14,AL",
         "24.1 ",
         "23.3 ",
         "22.5 ",
         "21.6 ",
         "20.7 ",
         "20.1 ",
         "19.6 ",
         "19.0 ",
         "18.5 ",
         "18.2 ",
         "17.7 ",
         "17.2 "
        ],
        [
         "PC_Y0_14,AM",
         "19.0 ",
         "18.6 ",
         "18.3 ",
         ": ",
         ": ",
         ": ",
         ": ",
         "19.4 ",
         "19.6 ",
         "20.0 ",
         "20.2 ",
         "20.2 "
        ],
        [
         "PC_Y0_14,AT",
         "15.4 ",
         "15.1 ",
         "14.9 ",
         "14.7 ",
         "14.6 ",
         "14.4 ",
         "14.3 ",
         "14.3 ",
         "14.3 ",
         "14.4 ",
         "14.4 ",
         "14.4 "
        ],
        [
         "PC_Y0_14,AZ",
         "23.2 ",
         "22.6 ",
         "22.6 ",
         "22.3 ",
         "22.2 ",
         "22.3 ",
         "22.4 ",
         "22.4 ",
         "22.5 ",
         "22.6 ",
         "22.6 ",
         "22.4 "
        ]
       ],
       "datasetInfos": [],
       "dbfsResultPath": null,
       "isJsonSchema": true,
       "metadata": {},
       "overflow": false,
       "plotOptions": {
        "customPlotOptions": {},
        "displayType": "table",
        "pivotAggregation": null,
        "pivotColumns": null,
        "xColumns": null,
        "yColumns": null
       },
       "removedWidgets": [],
       "schema": [
        {
         "metadata": "{}",
         "name": "indic_de,geo\\time",
         "type": "\"string\""
        },
        {
         "metadata": "{}",
         "name": "2008 ",
         "type": "\"string\""
        },
        {
         "metadata": "{}",
         "name": "2009 ",
         "type": "\"string\""
        },
        {
         "metadata": "{}",
         "name": "2010 ",
         "type": "\"string\""
        },
        {
         "metadata": "{}",
         "name": "2011 ",
         "type": "\"string\""
        },
        {
         "metadata": "{}",
         "name": "2012 ",
         "type": "\"string\""
        },
        {
         "metadata": "{}",
         "name": "2013 ",
         "type": "\"string\""
        },
        {
         "metadata": "{}",
         "name": "2014 ",
         "type": "\"string\""
        },
        {
         "metadata": "{}",
         "name": "2015 ",
         "type": "\"string\""
        },
        {
         "metadata": "{}",
         "name": "2016 ",
         "type": "\"string\""
        },
        {
         "metadata": "{}",
         "name": "2017 ",
         "type": "\"string\""
        },
        {
         "metadata": "{}",
         "name": "2018 ",
         "type": "\"string\""
        },
        {
         "metadata": "{}",
         "name": "2019 ",
         "type": "\"string\""
        }
       ],
       "type": "table"
      }
     },
     "output_type": "display_data"
    }
   ],
   "source": [
    "# display(population_df.limit(5))"
   ]
  },
  {
   "cell_type": "markdown",
   "metadata": {
    "application/vnd.databricks.v1+cell": {
     "cellMetadata": {
      "byteLimit": 2048000,
      "rowLimit": 10000
     },
     "inputWidgets": {},
     "nuid": "34ac8756-5cec-4b26-a1c1-60f36bf0786d",
     "showTitle": false,
     "title": ""
    }
   },
   "source": [
    "##### Transforming population file"
   ]
  },
  {
   "cell_type": "code",
   "execution_count": 0,
   "metadata": {
    "application/vnd.databricks.v1+cell": {
     "cellMetadata": {
      "byteLimit": 2048000,
      "rowLimit": 10000
     },
     "inputWidgets": {},
     "nuid": "3aed6015-4a8e-4d1a-a860-5f2b52c19756",
     "showTitle": false,
     "title": ""
    }
   },
   "outputs": [],
   "source": [
    "from pyspark.sql.functions import split, col, regexp_replace, cast\n",
    "from pyspark.sql.types import DecimalType"
   ]
  },
  {
   "cell_type": "code",
   "execution_count": 0,
   "metadata": {
    "application/vnd.databricks.v1+cell": {
     "cellMetadata": {
      "byteLimit": 2048000,
      "rowLimit": 10000
     },
     "inputWidgets": {},
     "nuid": "c36d6a81-aaf7-4283-aec2-17702a4e08a9",
     "showTitle": false,
     "title": ""
    }
   },
   "outputs": [],
   "source": [
    "population_trans_df = population_df \\\n",
    "    .withColumn('age_group', regexp_replace(split(r'indic_de,geo\\time', ',').getItem(0), 'PC_', '')) \\\n",
    "    .withColumn('country_code', split(r'indic_de,geo\\time', ',')[1]) \\\n",
    "    .filter('length(country_code) = 2') \\\n",
    "    .select(col('age_group'), col('country_code'), regexp_replace(col('2019 '), '[a-z]', '').alias('percentage_2019').cast(DecimalType(4,2))) \\\n",
    "    .filter(col('percentage_2019').isNotNull())\n",
    "    \n",
    "# Here I am selecting 2019 like this, because PySpark interprets 2019 as a number, not a string."
   ]
  },
  {
   "cell_type": "code",
   "execution_count": 0,
   "metadata": {
    "application/vnd.databricks.v1+cell": {
     "cellMetadata": {
      "byteLimit": 2048000,
      "rowLimit": 10000
     },
     "inputWidgets": {},
     "nuid": "ce32ae9f-734e-4326-9390-8895d2c3a218",
     "showTitle": false,
     "title": ""
    }
   },
   "outputs": [
    {
     "output_type": "display_data",
     "data": {
      "text/html": [
       "<style scoped>\n",
       "  .table-result-container {\n",
       "    max-height: 300px;\n",
       "    overflow: auto;\n",
       "  }\n",
       "  table, th, td {\n",
       "    border: 1px solid black;\n",
       "    border-collapse: collapse;\n",
       "  }\n",
       "  th, td {\n",
       "    padding: 5px;\n",
       "  }\n",
       "  th {\n",
       "    text-align: left;\n",
       "  }\n",
       "</style><div class='table-result-container'><table class='table-result'><thead style='background-color: white'><tr><th>age_group</th><th>country_code</th><th>percentage_2019</th></tr></thead><tbody><tr><td>Y0_14</td><td>AD</td><td>13.90</td></tr><tr><td>Y0_14</td><td>AL</td><td>17.20</td></tr><tr><td>Y0_14</td><td>AM</td><td>20.20</td></tr><tr><td>Y0_14</td><td>AT</td><td>14.40</td></tr><tr><td>Y0_14</td><td>AZ</td><td>22.40</td></tr></tbody></table></div>"
      ]
     },
     "metadata": {
      "application/vnd.databricks.v1+output": {
       "addedWidgets": {},
       "aggData": [],
       "aggError": "",
       "aggOverflow": false,
       "aggSchema": [],
       "aggSeriesLimitReached": false,
       "aggType": "",
       "arguments": {},
       "columnCustomDisplayInfos": {},
       "data": [
        [
         "Y0_14",
         "AD",
         "13.90"
        ],
        [
         "Y0_14",
         "AL",
         "17.20"
        ],
        [
         "Y0_14",
         "AM",
         "20.20"
        ],
        [
         "Y0_14",
         "AT",
         "14.40"
        ],
        [
         "Y0_14",
         "AZ",
         "22.40"
        ]
       ],
       "datasetInfos": [],
       "dbfsResultPath": null,
       "isJsonSchema": true,
       "metadata": {},
       "overflow": false,
       "plotOptions": {
        "customPlotOptions": {},
        "displayType": "table",
        "pivotAggregation": null,
        "pivotColumns": null,
        "xColumns": null,
        "yColumns": null
       },
       "removedWidgets": [],
       "schema": [
        {
         "metadata": "{}",
         "name": "age_group",
         "type": "\"string\""
        },
        {
         "metadata": "{}",
         "name": "country_code",
         "type": "\"string\""
        },
        {
         "metadata": "{}",
         "name": "percentage_2019",
         "type": "\"decimal(4,2)\""
        }
       ],
       "type": "table"
      }
     },
     "output_type": "display_data"
    }
   ],
   "source": [
    "# display(population_trans_df.limit(5))"
   ]
  },
  {
   "cell_type": "code",
   "execution_count": 0,
   "metadata": {
    "application/vnd.databricks.v1+cell": {
     "cellMetadata": {
      "byteLimit": 2048000,
      "rowLimit": 10000
     },
     "inputWidgets": {},
     "nuid": "fb2e92ba-8973-4fa5-8c25-ab21156ce6f0",
     "showTitle": false,
     "title": ""
    }
   },
   "outputs": [],
   "source": [
    "population_pivot_df = population_trans_df.groupBy('country_code').pivot('age_group').sum('percentage_2019')"
   ]
  },
  {
   "cell_type": "code",
   "execution_count": 0,
   "metadata": {
    "application/vnd.databricks.v1+cell": {
     "cellMetadata": {
      "byteLimit": 2048000,
      "rowLimit": 10000
     },
     "inputWidgets": {},
     "nuid": "e8508e3b-845d-4ddf-82c5-2f30d3a293a6",
     "showTitle": false,
     "title": ""
    }
   },
   "outputs": [
    {
     "output_type": "display_data",
     "data": {
      "text/html": [
       "<style scoped>\n",
       "  .table-result-container {\n",
       "    max-height: 300px;\n",
       "    overflow: auto;\n",
       "  }\n",
       "  table, th, td {\n",
       "    border: 1px solid black;\n",
       "    border-collapse: collapse;\n",
       "  }\n",
       "  th, td {\n",
       "    padding: 5px;\n",
       "  }\n",
       "  th {\n",
       "    text-align: left;\n",
       "  }\n",
       "</style><div class='table-result-container'><table class='table-result'><thead style='background-color: white'><tr><th>country_code</th><th>Y0_14</th><th>Y15_24</th><th>Y25_49</th><th>Y50_64</th><th>Y65_79</th><th>Y80_MAX</th></tr></thead><tbody><tr><td>LT</td><td>15.10</td><td>10.50</td><td>32.70</td><td>21.90</td><td>14.00</td><td>5.80</td></tr><tr><td>AZ</td><td>22.40</td><td>14.10</td><td>39.10</td><td>17.60</td><td>5.30</td><td>1.50</td></tr><tr><td>FI</td><td>16.00</td><td>11.20</td><td>31.20</td><td>19.90</td><td>16.30</td><td>5.50</td></tr><tr><td>UA</td><td>15.40</td><td>9.60</td><td>37.60</td><td>20.60</td><td>12.50</td><td>4.30</td></tr><tr><td>RO</td><td>15.70</td><td>10.60</td><td>35.60</td><td>19.70</td><td>13.90</td><td>4.70</td></tr></tbody></table></div>"
      ]
     },
     "metadata": {
      "application/vnd.databricks.v1+output": {
       "addedWidgets": {},
       "aggData": [],
       "aggError": "",
       "aggOverflow": false,
       "aggSchema": [],
       "aggSeriesLimitReached": false,
       "aggType": "",
       "arguments": {},
       "columnCustomDisplayInfos": {},
       "data": [
        [
         "LT",
         "15.10",
         "10.50",
         "32.70",
         "21.90",
         "14.00",
         "5.80"
        ],
        [
         "AZ",
         "22.40",
         "14.10",
         "39.10",
         "17.60",
         "5.30",
         "1.50"
        ],
        [
         "FI",
         "16.00",
         "11.20",
         "31.20",
         "19.90",
         "16.30",
         "5.50"
        ],
        [
         "UA",
         "15.40",
         "9.60",
         "37.60",
         "20.60",
         "12.50",
         "4.30"
        ],
        [
         "RO",
         "15.70",
         "10.60",
         "35.60",
         "19.70",
         "13.90",
         "4.70"
        ]
       ],
       "datasetInfos": [],
       "dbfsResultPath": null,
       "isJsonSchema": true,
       "metadata": {},
       "overflow": false,
       "plotOptions": {
        "customPlotOptions": {},
        "displayType": "table",
        "pivotAggregation": null,
        "pivotColumns": null,
        "xColumns": null,
        "yColumns": null
       },
       "removedWidgets": [],
       "schema": [
        {
         "metadata": "{}",
         "name": "country_code",
         "type": "\"string\""
        },
        {
         "metadata": "{}",
         "name": "Y0_14",
         "type": "\"decimal(14,2)\""
        },
        {
         "metadata": "{}",
         "name": "Y15_24",
         "type": "\"decimal(14,2)\""
        },
        {
         "metadata": "{}",
         "name": "Y25_49",
         "type": "\"decimal(14,2)\""
        },
        {
         "metadata": "{}",
         "name": "Y50_64",
         "type": "\"decimal(14,2)\""
        },
        {
         "metadata": "{}",
         "name": "Y65_79",
         "type": "\"decimal(14,2)\""
        },
        {
         "metadata": "{}",
         "name": "Y80_MAX",
         "type": "\"decimal(14,2)\""
        }
       ],
       "type": "table"
      }
     },
     "output_type": "display_data"
    }
   ],
   "source": [
    "display(population_pivot_df.limit(5))"
   ]
  },
  {
   "cell_type": "markdown",
   "metadata": {
    "application/vnd.databricks.v1+cell": {
     "cellMetadata": {
      "byteLimit": 2048000,
      "rowLimit": 10000
     },
     "inputWidgets": {},
     "nuid": "8dee7757-2946-4ce4-ba41-6b10ab946d0d",
     "showTitle": false,
     "title": ""
    }
   },
   "source": [
    "##### Reading lookup file"
   ]
  },
  {
   "cell_type": "code",
   "execution_count": 0,
   "metadata": {
    "application/vnd.databricks.v1+cell": {
     "cellMetadata": {
      "byteLimit": 2048000,
      "rowLimit": 10000
     },
     "inputWidgets": {},
     "nuid": "a6983164-273c-4fcb-b176-b215b5418d6e",
     "showTitle": false,
     "title": ""
    }
   },
   "outputs": [],
   "source": [
    "lookup_df = spark.read.option('inferSchema', True) \\\n",
    "    .option('header', True) \\\n",
    "    .csv('/mnt/covid19reportingadfadls/lookup/country_lookup/country_lookup.csv')"
   ]
  },
  {
   "cell_type": "code",
   "execution_count": 0,
   "metadata": {
    "application/vnd.databricks.v1+cell": {
     "cellMetadata": {
      "byteLimit": 2048000,
      "rowLimit": 10000
     },
     "inputWidgets": {},
     "nuid": "d74e8953-37ac-4296-a3f6-d1778601c88e",
     "showTitle": false,
     "title": ""
    }
   },
   "outputs": [
    {
     "output_type": "display_data",
     "data": {
      "text/html": [
       "<style scoped>\n",
       "  .table-result-container {\n",
       "    max-height: 300px;\n",
       "    overflow: auto;\n",
       "  }\n",
       "  table, th, td {\n",
       "    border: 1px solid black;\n",
       "    border-collapse: collapse;\n",
       "  }\n",
       "  th, td {\n",
       "    padding: 5px;\n",
       "  }\n",
       "  th {\n",
       "    text-align: left;\n",
       "  }\n",
       "</style><div class='table-result-container'><table class='table-result'><thead style='background-color: white'><tr><th>country</th><th>country_code_2_digit</th><th>country_code_3_digit</th><th>continent</th><th>population</th></tr></thead><tbody><tr><td>Aruba</td><td>AW</td><td>ABW</td><td>America</td><td>106766</td></tr><tr><td>Afghanistan</td><td>AF</td><td>AFG</td><td>Asia</td><td>38928341</td></tr><tr><td>Angola</td><td>AO</td><td>AGO</td><td>Africa</td><td>32866268</td></tr><tr><td>Anguilla</td><td>AI</td><td>AIA</td><td>America</td><td>15002</td></tr><tr><td>Albania</td><td>AL</td><td>ALB</td><td>Europe</td><td>2862427</td></tr></tbody></table></div>"
      ]
     },
     "metadata": {
      "application/vnd.databricks.v1+output": {
       "addedWidgets": {},
       "aggData": [],
       "aggError": "",
       "aggOverflow": false,
       "aggSchema": [],
       "aggSeriesLimitReached": false,
       "aggType": "",
       "arguments": {},
       "columnCustomDisplayInfos": {},
       "data": [
        [
         "Aruba",
         "AW",
         "ABW",
         "America",
         106766
        ],
        [
         "Afghanistan",
         "AF",
         "AFG",
         "Asia",
         38928341
        ],
        [
         "Angola",
         "AO",
         "AGO",
         "Africa",
         32866268
        ],
        [
         "Anguilla",
         "AI",
         "AIA",
         "America",
         15002
        ],
        [
         "Albania",
         "AL",
         "ALB",
         "Europe",
         2862427
        ]
       ],
       "datasetInfos": [],
       "dbfsResultPath": null,
       "isJsonSchema": true,
       "metadata": {},
       "overflow": false,
       "plotOptions": {
        "customPlotOptions": {},
        "displayType": "table",
        "pivotAggregation": null,
        "pivotColumns": null,
        "xColumns": null,
        "yColumns": null
       },
       "removedWidgets": [],
       "schema": [
        {
         "metadata": "{}",
         "name": "country",
         "type": "\"string\""
        },
        {
         "metadata": "{}",
         "name": "country_code_2_digit",
         "type": "\"string\""
        },
        {
         "metadata": "{}",
         "name": "country_code_3_digit",
         "type": "\"string\""
        },
        {
         "metadata": "{}",
         "name": "continent",
         "type": "\"string\""
        },
        {
         "metadata": "{}",
         "name": "population",
         "type": "\"integer\""
        }
       ],
       "type": "table"
      }
     },
     "output_type": "display_data"
    }
   ],
   "source": [
    "display(lookup_df.limit(5))"
   ]
  },
  {
   "cell_type": "markdown",
   "metadata": {
    "application/vnd.databricks.v1+cell": {
     "cellMetadata": {},
     "inputWidgets": {},
     "nuid": "e6e57b7e-fa90-4984-aded-7161aad42033",
     "showTitle": false,
     "title": ""
    }
   },
   "source": [
    "##### Joining population file to lookup file"
   ]
  },
  {
   "cell_type": "code",
   "execution_count": 0,
   "metadata": {
    "application/vnd.databricks.v1+cell": {
     "cellMetadata": {
      "byteLimit": 2048000,
      "rowLimit": 10000
     },
     "inputWidgets": {},
     "nuid": "aed5e111-3db5-4278-a845-a59d5ccd9474",
     "showTitle": false,
     "title": ""
    }
   },
   "outputs": [],
   "source": [
    "final_df = population_pivot_df.join(lookup_df, population_pivot_df.country_code == lookup_df.country_code_2_digit, 'left') \\\n",
    "    .select('country', 'country_code_2_digit', 'country_code_3_digit', 'population', col('Y0_14').alias('age_group_0_14'), col('Y15_24').alias('age_group_15_24'), col('Y25_49').alias('age_group_25_49'), col('Y50_64').alias('age_group_50_64'), col('Y65_79').alias('age_group_65_70'), col('Y80_MAX').alias('age_group_80_max'))"
   ]
  },
  {
   "cell_type": "markdown",
   "metadata": {
    "application/vnd.databricks.v1+cell": {
     "cellMetadata": {},
     "inputWidgets": {},
     "nuid": "f5a7d72c-92af-49cb-a388-3323981c716b",
     "showTitle": false,
     "title": ""
    }
   },
   "source": [
    "##### Write output data to processed container"
   ]
  },
  {
   "cell_type": "code",
   "execution_count": 0,
   "metadata": {
    "application/vnd.databricks.v1+cell": {
     "cellMetadata": {
      "byteLimit": 2048000,
      "rowLimit": 10000
     },
     "inputWidgets": {},
     "nuid": "680be95e-5871-4357-8146-0acb959accac",
     "showTitle": false,
     "title": ""
    }
   },
   "outputs": [],
   "source": [
    "final_df.write.mode('overwrite').format('parquet').saveAsTable('covid19_processed.population')"
   ]
  },
  {
   "cell_type": "code",
   "execution_count": 0,
   "metadata": {
    "application/vnd.databricks.v1+cell": {
     "cellMetadata": {
      "byteLimit": 2048000,
      "implicitDf": true,
      "rowLimit": 10000
     },
     "inputWidgets": {},
     "nuid": "53ca587b-c2dd-4e10-9f9b-d3aa8578b8d3",
     "showTitle": false,
     "title": ""
    }
   },
   "outputs": [
    {
     "output_type": "display_data",
     "data": {
      "text/html": [
       "<style scoped>\n",
       "  .table-result-container {\n",
       "    max-height: 300px;\n",
       "    overflow: auto;\n",
       "  }\n",
       "  table, th, td {\n",
       "    border: 1px solid black;\n",
       "    border-collapse: collapse;\n",
       "  }\n",
       "  th, td {\n",
       "    padding: 5px;\n",
       "  }\n",
       "  th {\n",
       "    text-align: left;\n",
       "  }\n",
       "</style><div class='table-result-container'><table class='table-result'><thead style='background-color: white'><tr><th>country</th><th>country_code_2_digit</th><th>country_code_3_digit</th><th>population</th><th>age_group_0_14</th><th>age_group_15_24</th><th>age_group_25_49</th><th>age_group_50_64</th><th>age_group_65_70</th><th>age_group_80_max</th></tr></thead><tbody><tr><td>Lithuania</td><td>LT</td><td>LTU</td><td>2794184</td><td>15.10</td><td>10.50</td><td>32.70</td><td>21.90</td><td>14.00</td><td>5.80</td></tr><tr><td>Azerbaijan</td><td>AZ</td><td>AZE</td><td>10139175</td><td>22.40</td><td>14.10</td><td>39.10</td><td>17.60</td><td>5.30</td><td>1.50</td></tr><tr><td>Finland</td><td>FI</td><td>FIN</td><td>5517919</td><td>16.00</td><td>11.20</td><td>31.20</td><td>19.90</td><td>16.30</td><td>5.50</td></tr><tr><td>Ukraine</td><td>UA</td><td>UKR</td><td>43733759</td><td>15.40</td><td>9.60</td><td>37.60</td><td>20.60</td><td>12.50</td><td>4.30</td></tr><tr><td>Romania</td><td>RO</td><td>ROU</td><td>19414458</td><td>15.70</td><td>10.60</td><td>35.60</td><td>19.70</td><td>13.90</td><td>4.70</td></tr></tbody></table></div>"
      ]
     },
     "metadata": {
      "application/vnd.databricks.v1+output": {
       "addedWidgets": {},
       "aggData": [],
       "aggError": "",
       "aggOverflow": false,
       "aggSchema": [],
       "aggSeriesLimitReached": false,
       "aggType": "",
       "arguments": {},
       "columnCustomDisplayInfos": {},
       "data": [
        [
         "Lithuania",
         "LT",
         "LTU",
         2794184,
         "15.10",
         "10.50",
         "32.70",
         "21.90",
         "14.00",
         "5.80"
        ],
        [
         "Azerbaijan",
         "AZ",
         "AZE",
         10139175,
         "22.40",
         "14.10",
         "39.10",
         "17.60",
         "5.30",
         "1.50"
        ],
        [
         "Finland",
         "FI",
         "FIN",
         5517919,
         "16.00",
         "11.20",
         "31.20",
         "19.90",
         "16.30",
         "5.50"
        ],
        [
         "Ukraine",
         "UA",
         "UKR",
         43733759,
         "15.40",
         "9.60",
         "37.60",
         "20.60",
         "12.50",
         "4.30"
        ],
        [
         "Romania",
         "RO",
         "ROU",
         19414458,
         "15.70",
         "10.60",
         "35.60",
         "19.70",
         "13.90",
         "4.70"
        ]
       ],
       "datasetInfos": [],
       "dbfsResultPath": null,
       "isJsonSchema": true,
       "metadata": {
        "dataframeName": "_sqldf",
        "executionCount": 11
       },
       "overflow": false,
       "plotOptions": {
        "customPlotOptions": {},
        "displayType": "table",
        "pivotAggregation": null,
        "pivotColumns": null,
        "xColumns": null,
        "yColumns": null
       },
       "removedWidgets": [],
       "schema": [
        {
         "metadata": "{}",
         "name": "country",
         "type": "\"string\""
        },
        {
         "metadata": "{}",
         "name": "country_code_2_digit",
         "type": "\"string\""
        },
        {
         "metadata": "{}",
         "name": "country_code_3_digit",
         "type": "\"string\""
        },
        {
         "metadata": "{}",
         "name": "population",
         "type": "\"integer\""
        },
        {
         "metadata": "{}",
         "name": "age_group_0_14",
         "type": "\"decimal(14,2)\""
        },
        {
         "metadata": "{}",
         "name": "age_group_15_24",
         "type": "\"decimal(14,2)\""
        },
        {
         "metadata": "{}",
         "name": "age_group_25_49",
         "type": "\"decimal(14,2)\""
        },
        {
         "metadata": "{}",
         "name": "age_group_50_64",
         "type": "\"decimal(14,2)\""
        },
        {
         "metadata": "{}",
         "name": "age_group_65_70",
         "type": "\"decimal(14,2)\""
        },
        {
         "metadata": "{}",
         "name": "age_group_80_max",
         "type": "\"decimal(14,2)\""
        }
       ],
       "type": "table"
      }
     },
     "output_type": "display_data"
    }
   ],
   "source": [
    "%sql\n",
    "SELECT * FROM covid19_processed.population\n",
    "LIMIT 5;"
   ]
  },
  {
   "cell_type": "code",
   "execution_count": 0,
   "metadata": {
    "application/vnd.databricks.v1+cell": {
     "cellMetadata": {
      "byteLimit": 2048000,
      "rowLimit": 10000
     },
     "inputWidgets": {},
     "nuid": "040ab476-de0a-4b12-8de7-85f80398fc97",
     "showTitle": false,
     "title": ""
    }
   },
   "outputs": [],
   "source": [
    "dbutils.notebook.exit('Success')"
   ]
  }
 ],
 "metadata": {
  "application/vnd.databricks.v1+notebook": {
   "dashboards": [],
   "language": "python",
   "notebookMetadata": {
    "mostRecentlyExecutedCommandWithImplicitDF": {
     "commandId": 1954581309579153,
     "dataframes": [
      "_sqldf"
     ]
    },
    "pythonIndentUnit": 4
   },
   "notebookName": "2.transfrom_population_by_age_file",
   "widgets": {}
  }
 },
 "nbformat": 4,
 "nbformat_minor": 0
}
