{
 "cells": [
  {
   "cell_type": "markdown",
   "metadata": {
    "application/vnd.databricks.v1+cell": {
     "cellMetadata": {},
     "inputWidgets": {},
     "nuid": "593f9966-b4bd-4116-861a-03d114505cbf",
     "showTitle": false,
     "title": ""
    }
   },
   "source": [
    "### Mount ADLS containers for the Project"
   ]
  },
  {
   "cell_type": "code",
   "execution_count": 0,
   "metadata": {
    "application/vnd.databricks.v1+cell": {
     "cellMetadata": {
      "byteLimit": 2048000,
      "rowLimit": 10000
     },
     "inputWidgets": {},
     "nuid": "81cef987-25e6-4d41-8b50-7cd7158b1542",
     "showTitle": false,
     "title": ""
    }
   },
   "outputs": [],
   "source": [
    "def mount_adls(storage_account_name, container_name):\n",
    "    # Get id and secrets from key-vaults\n",
    "    client_id = dbutils.secrets.get(scope='formula1-scope', key='formula1-databricks-client-id')\n",
    "    tenant_id = dbutils.secrets.get(scope='formula1-scope', key='formula1-databricks-tenant-id')\n",
    "    client_secret = dbutils.secrets.get(scope='formula1-scope', key='formula1-databricks-client-secret')\n",
    "\n",
    "    # Set Spark Configuration\n",
    "    configs = {\"fs.azure.account.auth.type\": \"OAuth\",\n",
    "          \"fs.azure.account.oauth.provider.type\": \"org.apache.hadoop.fs.azurebfs.oauth2.ClientCredsTokenProvider\",\n",
    "          \"fs.azure.account.oauth2.client.id\": client_id,\n",
    "          \"fs.azure.account.oauth2.client.secret\": client_secret,\n",
    "          \"fs.azure.account.oauth2.client.endpoint\": f\"https://login.microsoftonline.com/{tenant_id}/oauth2/token\"\n",
    "        }\n",
    "    \n",
    "    # Unmount the mount if it already available\n",
    "    if any(mount.mountPoint == f'/mnt/{storage_account_name}/{container_name}' for mount in dbutils.fs.mounts()):\n",
    "        dbutils.fs.unmount(f'/mnt/{storage_account_name}/{container_name}')\n",
    "\n",
    "    # Mount the storage container\n",
    "    dbutils.fs.mount(\n",
    "            source = f'abfss://{container_name}@{storage_account_name}.dfs.core.windows.net/',\n",
    "            mount_point = f'/mnt/{storage_account_name}/{container_name}',\n",
    "            extra_configs = configs\n",
    "        )\n",
    "\n",
    "    display(dbutils.fs.mounts())"
   ]
  },
  {
   "cell_type": "markdown",
   "metadata": {
    "application/vnd.databricks.v1+cell": {
     "cellMetadata": {},
     "inputWidgets": {},
     "nuid": "690dd252-18d6-4fc8-8082-901496e60ee7",
     "showTitle": false,
     "title": ""
    }
   },
   "source": [
    "##### Mount Raw Container"
   ]
  },
  {
   "cell_type": "code",
   "execution_count": 0,
   "metadata": {
    "application/vnd.databricks.v1+cell": {
     "cellMetadata": {
      "byteLimit": 2048000,
      "rowLimit": 10000
     },
     "inputWidgets": {},
     "nuid": "8303ad68-64f7-4381-9f37-f751b809978d",
     "showTitle": false,
     "title": ""
    }
   },
   "outputs": [],
   "source": [
    "mount_adls('covid19reportingadfadls', 'raw')"
   ]
  },
  {
   "cell_type": "markdown",
   "metadata": {
    "application/vnd.databricks.v1+cell": {
     "cellMetadata": {},
     "inputWidgets": {},
     "nuid": "b0eac916-1428-4b50-8415-a4deb8dc4b1d",
     "showTitle": false,
     "title": ""
    }
   },
   "source": [
    "##### Mount Processed Container"
   ]
  },
  {
   "cell_type": "code",
   "execution_count": 0,
   "metadata": {
    "application/vnd.databricks.v1+cell": {
     "cellMetadata": {
      "byteLimit": 2048000,
      "rowLimit": 10000
     },
     "inputWidgets": {},
     "nuid": "3a2ac5fd-3a92-433c-9c17-7b995630f81d",
     "showTitle": false,
     "title": ""
    }
   },
   "outputs": [],
   "source": [
    "mount_adls('covid19reportingadfadls', 'processed')"
   ]
  },
  {
   "cell_type": "markdown",
   "metadata": {
    "application/vnd.databricks.v1+cell": {
     "cellMetadata": {},
     "inputWidgets": {},
     "nuid": "8a9fde27-1f3d-4764-86de-3d60a00873b9",
     "showTitle": false,
     "title": ""
    }
   },
   "source": [
    "##### Mount Lookup Container"
   ]
  },
  {
   "cell_type": "code",
   "execution_count": 0,
   "metadata": {
    "application/vnd.databricks.v1+cell": {
     "cellMetadata": {
      "byteLimit": 2048000,
      "rowLimit": 10000
     },
     "inputWidgets": {},
     "nuid": "41d26678-bc27-4aa0-8a61-958b4ad4b5d2",
     "showTitle": false,
     "title": ""
    }
   },
   "outputs": [],
   "source": [
    "mount_adls('covid19reportingadfadls', 'lookup')"
   ]
  },
  {
   "cell_type": "code",
   "execution_count": 0,
   "metadata": {
    "application/vnd.databricks.v1+cell": {
     "cellMetadata": {},
     "inputWidgets": {},
     "nuid": "fab27a1d-38f0-413b-8409-2002b966ae91",
     "showTitle": false,
     "title": ""
    }
   },
   "outputs": [],
   "source": []
  }
 ],
 "metadata": {
  "application/vnd.databricks.v1+notebook": {
   "dashboards": [],
   "language": "python",
   "notebookMetadata": {
    "pythonIndentUnit": 4
   },
   "notebookName": "mount_adls_containers_for_projects",
   "widgets": {}
  }
 },
 "nbformat": 4,
 "nbformat_minor": 0
}
